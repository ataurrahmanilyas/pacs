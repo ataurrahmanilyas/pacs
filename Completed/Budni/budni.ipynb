{
 "cells": [
  {
   "cell_type": "code",
   "execution_count": null,
   "id": "7ae59653-a1aa-4ffb-b19e-51aa9dc36afb",
   "metadata": {},
   "outputs": [],
   "source": []
  },
  {
   "cell_type": "code",
   "execution_count": null,
   "id": "2bd306a1-643b-45f0-9ee7-5783e4d14324",
   "metadata": {},
   "outputs": [],
   "source": []
  },
  {
   "cell_type": "code",
   "execution_count": 44,
   "id": "c4685b5d-6a68-47d2-8d1c-b60695df8201",
   "metadata": {},
   "outputs": [
    {
     "name": "stdout",
     "output_type": "stream",
     "text": [
      "['Personal_Details', 'Land_Details', 'KCC Loans', 'MT Loans', 'Non Agri Loans', 'FERTILISER loans', 'Loans', 'Saving Deposits', 'Term Deposits.', 'Kissan FD', 'EMPLOYEE SECURITY DEPOSIT', 'Collateral Details', 'Transaction Details', 'Agent Details', 'Pigmy Deposits']\n",
      "Processing sheet: Personal_Details\n",
      "Personal_Details\n",
      "Processing sheet: Land_Details\n",
      "Land_Details\n",
      "Processing sheet: KCC Loans\n",
      "KCC Loans\n",
      "Processing sheet: MT Loans\n",
      "MT Loans\n",
      "Processing sheet: Non Agri Loans\n",
      "Non Agri Loans\n",
      "Processing sheet: FERTILISER loans\n",
      "FERTILISER loans\n",
      "Processing sheet: Loans\n",
      "Loans\n",
      "Processing sheet: Saving Deposits\n",
      "Saving Deposits\n",
      "Processing sheet: Term Deposits.\n",
      "Term Deposits.\n",
      "Processing sheet: Kissan FD\n",
      "Kissan FD\n",
      "Processing sheet: EMPLOYEE SECURITY DEPOSIT\n",
      "EMPLOYEE SECURITY DEPOSIT\n",
      "Processing sheet: Collateral Details\n",
      "Collateral Details\n",
      "Processing sheet: Transaction Details\n",
      "Transaction Details\n",
      "Processing sheet: Agent Details\n",
      "Agent Details\n",
      "Processing sheet: Pigmy Deposits\n",
      "Pigmy Deposits\n"
     ]
    }
   ],
   "source": [
    "import warnings\n",
    "import pandas as pd\n",
    "\n",
    "# Suppress specific warnings\n",
    "warnings.filterwarnings(\"ignore\", message=\"Print area cannot be set to Defined name\")\n",
    "\n",
    "excel_file = 'Budni PM - Data.xlsx';\n",
    "xls = pd.ExcelFile(excel_file)\n",
    "sheet_names = xls.sheet_names\n",
    "print(sheet_names);\n",
    "\n",
    "# Create a dictionary to store DataFrames\n",
    "dfs = {}\n",
    "\n",
    "# Read each sheet into a DataFrame and store it in the dictionary\n",
    "columns_to_check = ['ADMISSION NO.', 'SANCTION DATE'];\n",
    "\n",
    "for sheet_name, df in dfs.items():\n",
    "    print(f\"Processing sheet: {sheet_name}\")\n",
    "    \n",
    "    if sheet_name == 'Personal_Details':\n",
    "        PersonaDetails = df[['ADMISSION NO.', 'ADMISSION DATE']]\n",
    "    else:\n",
    "        existing_columns = [col for col in columns_to_check if col in df.columns]\n",
    "        print(sheet_name)\n",
    "    \n",
    "        \n",
    "       \n",
    "\n",
    "   \n",
    "\n",
    "\n",
    "\n",
    "\n",
    "    \n",
    "    "
   ]
  },
  {
   "cell_type": "code",
   "execution_count": 47,
   "id": "08ad8dde-d623-4aff-8cf5-d1f44be8192f",
   "metadata": {},
   "outputs": [
    {
     "name": "stdout",
     "output_type": "stream",
     "text": [
      "Processing sheet: Personal_Details\n",
      "Processing sheet: Land_Details\n",
      "Land_Details\n",
      "Processing sheet: KCC Loans\n",
      "KCC Loans\n",
      "Processing sheet: MT Loans\n",
      "MT Loans\n",
      "Processing sheet: Non Agri Loans\n",
      "Non Agri Loans\n",
      "Processing sheet: FERTILISER loans\n",
      "FERTILISER loans\n",
      "Processing sheet: Loans\n",
      "Loans\n",
      "Processing sheet: Saving Deposits\n",
      "Saving Deposits\n",
      "Processing sheet: Term Deposits.\n",
      "Term Deposits.\n",
      "Processing sheet: Kissan FD\n",
      "Kissan FD\n",
      "Processing sheet: EMPLOYEE SECURITY DEPOSIT\n",
      "EMPLOYEE SECURITY DEPOSIT\n",
      "Processing sheet: Collateral Details\n",
      "Collateral Details\n",
      "Processing sheet: Transaction Details\n",
      "Transaction Details\n",
      "Processing sheet: Agent Details\n",
      "Agent Details\n",
      "Processing sheet: Pigmy Deposits\n",
      "Pigmy Deposits\n"
     ]
    }
   ],
   "source": []
  }
 ],
 "metadata": {
  "kernelspec": {
   "display_name": "Python 3 (ipykernel)",
   "language": "python",
   "name": "python3"
  },
  "language_info": {
   "codemirror_mode": {
    "name": "ipython",
    "version": 3
   },
   "file_extension": ".py",
   "mimetype": "text/x-python",
   "name": "python",
   "nbconvert_exporter": "python",
   "pygments_lexer": "ipython3",
   "version": "3.12.4"
  }
 },
 "nbformat": 4,
 "nbformat_minor": 5
}
