{
 "cells": [
  {
   "cell_type": "code",
   "execution_count": null,
   "id": "5ebfe386-272d-45ec-8003-7bcb902f7b6f",
   "metadata": {},
   "outputs": [],
   "source": [
    "import pandas as pd\n",
    "\n",
    "excelSheet = pd.read_excel('SHRI BASAVESHWAR PKPS NERALI',sheet_name = None)\n",
    "\n",
    "print(excelSheet)\n",
    "\n"
   ]
  }
 ],
 "metadata": {
  "kernelspec": {
   "display_name": "Python 3 (ipykernel)",
   "language": "python",
   "name": "python3"
  },
  "language_info": {
   "codemirror_mode": {
    "name": "ipython",
    "version": 3
   },
   "file_extension": ".py",
   "mimetype": "text/x-python",
   "name": "python",
   "nbconvert_exporter": "python",
   "pygments_lexer": "ipython3",
   "version": "3.12.4"
  }
 },
 "nbformat": 4,
 "nbformat_minor": 5
}
